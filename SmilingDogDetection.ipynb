{
 "cells": [
  {
   "cell_type": "markdown",
   "metadata": {},
   "source": [
    "## Dataset preparation from online"
   ]
  },
  {
   "cell_type": "code",
   "execution_count": 1,
   "metadata": {},
   "outputs": [],
   "source": [
    "from google_images_download import google_images_download"
   ]
  },
  {
   "cell_type": "code",
   "execution_count": 2,
   "metadata": {},
   "outputs": [],
   "source": [
    "response = google_images_download.googleimagesdownload()\n",
    "search_queries = ['smiling dogs','sad dogs']"
   ]
  },
  {
   "cell_type": "code",
   "execution_count": 3,
   "metadata": {},
   "outputs": [],
   "source": [
    "def downloadimages(query):\n",
    "    arguments = dict(keywords=query,\n",
    "                    limit=7,\n",
    "                    #format='jpg',\n",
    "                    #aspect_ratio='wide',\n",
    "                    #size='medium',\n",
    "                    print_urls=True\n",
    "                    )\n",
    "    try: \n",
    "        response.download(arguments)     \n",
    "    except FileNotFoundError:  \n",
    "        arguments = {\"keywords\": query, \n",
    "                     \"format\": \"jpg\", \n",
    "                     \"limit\":4, \n",
    "                     \"print_urls\":True,  \n",
    "                     \"size\": \"medium\"}                       \n",
    "        try:  \n",
    "            response.download(arguments)  \n",
    "        except: \n",
    "            pass"
   ]
  },
  {
   "cell_type": "code",
   "execution_count": 4,
   "metadata": {
    "scrolled": false
   },
   "outputs": [
    {
     "name": "stdout",
     "output_type": "stream",
     "text": [
      "\n",
      "Item no.: 1 --> Item name = smiling dogs\n",
      "Evaluating...\n",
      "Starting Download...\n",
      "Image URL: https://i.ytimg.com/vi/8XKmAkF8C-U/maxresdefault.jpg\n",
      "Completed Image ====> 1.maxresdefault.jpg\n",
      "Image URL: https://www.petmd.com/sites/default/files/CANS_dogsmiling_379727605.jpg\n",
      "Completed Image ====> 2.CANS_dogsmiling_379727605.jpg\n",
      "Image URL: https://i.ytimg.com/vi/01Pe3IkBHvw/hqdefault.jpg\n",
      "Completed Image ====> 3.hqdefault.jpg\n",
      "Image URL: https://i.ytimg.com/vi/Lrp2r91Z78w/maxresdefault.jpg\n",
      "Completed Image ====> 4.maxresdefault.jpg\n",
      "Image URL: https://barkpost-assets.s3.amazonaws.com/wp-content/uploads/2013/10/1.jpg\n",
      "Completed Image ====> 5.1.jpg\n",
      "Image URL: https://thebark.com/sites/default/files/styles/full/public/content/blog/full/81c39033-68b8-4096-8f29-a73ef7df2ac5.jpg?itok=jrtNNT6o\n",
      "Completed Image ====> 6.81c39033-68b8-4096-8f29-a73ef7df2ac5.jpg\n",
      "Image URL: https://i.ytimg.com/vi/erEfPcA7M7E/maxresdefault.jpg\n",
      "Completed Image ====> 7.maxresdefault.jpg\n",
      "\n",
      "Errors: 0\n",
      "\n",
      "\n",
      "Item no.: 1 --> Item name = sad dogs\n",
      "Evaluating...\n",
      "Starting Download...\n",
      "Image URL: https://www.petmd.com/sites/default/files/do_dogs_feel_sadness.jpg\n",
      "Completed Image ====> 1.do_dogs_feel_sadness.jpg\n",
      "Image URL: https://www.rover.com/blog/wp-content/uploads/2018/03/dog-3218503_1920-960x540.jpg\n",
      "Completed Image ====> 2.dog-3218503_1920-960x540.jpg\n",
      "Image URL: https://i.barkpost.com/wp-content/uploads/2015/12/Boxer-In-Shelter-Behind-Bars.jpeg?q=70&fit=crop&crop=entropy&w=808&h=500\n",
      "Completed Image ====> 3.Boxer-In-Shelter-Behind-Bars.jpeg\n",
      "Image URL: https://i.ytimg.com/vi/Xw1C5T-fH2Y/maxresdefault.jpg\n",
      "Completed Image ====> 4.maxresdefault.jpg\n",
      "Image URL: https://media.mnn.com/assets/images/2017/03/sad-beagle-looking-out-window.jpg.653x0_q80_crop-smart.jpg\n",
      "Completed Image ====> 5.sad-beagle-looking-out-window.jpg\n",
      "Image URL: https://www.thesprucepets.com/thmb/UrPqVhHhhj5_LwzPWCx6ZTQBOAU=/450x0/filters:no_upscale():max_bytes(150000):strip_icc()/AMRImage-E-GettyImages-171325224-56a26ba55f9b58b7d0ca0aa1.jpg\n",
      "Completed Image ====> 6.AMRImage-E-GettyImages-171325224-56a26ba55f9b58b7d0ca0aa1.jpg\n",
      "Image URL: http://blogs.discovermagazine.com/inkfish/files/2017/06/1198735762_cc7928d694_z.jpg\n",
      "Completed Image ====> 7.1198735762_cc7928d694_z.jpg\n",
      "\n",
      "Errors: 0\n",
      "\n"
     ]
    }
   ],
   "source": [
    "for query in search_queries: \n",
    "    downloadimages(query)"
   ]
  },
  {
   "cell_type": "markdown",
   "metadata": {},
   "source": [
    "## File renaming"
   ]
  },
  {
   "cell_type": "code",
   "execution_count": 5,
   "metadata": {},
   "outputs": [],
   "source": [
    "import os\n",
    "original_path = os.getcwd()\n",
    "data_path = os.path.join(original_path,'downloads')\n",
    "data_folders = os.listdir(data_path)"
   ]
  },
  {
   "cell_type": "code",
   "execution_count": 6,
   "metadata": {},
   "outputs": [],
   "source": [
    "for folder in data_folders:\n",
    "    working_dir = os.path.join(data_path,folder)\n",
    "    os.chdir(working_dir)\n",
    "    current_list = os.listdir(os.getcwd())\n",
    "    for i in range(len(os.listdir(working_dir))):\n",
    "        original_name = current_list[i]\n",
    "        new_name = \"\".join(folder.split()) + '_{:04d}'.format(i+1) + os.path.splitext(original_name)[-1]\n",
    "        if not os.path.exists(new_name):\n",
    "            os.rename(original_name,new_name)\n",
    "os.chdir(original_path)"
   ]
  },
  {
   "cell_type": "code",
   "execution_count": null,
   "metadata": {},
   "outputs": [],
   "source": []
  }
 ],
 "metadata": {
  "kernelspec": {
   "display_name": "Python 3",
   "language": "python",
   "name": "python3"
  },
  "language_info": {
   "codemirror_mode": {
    "name": "ipython",
    "version": 3
   },
   "file_extension": ".py",
   "mimetype": "text/x-python",
   "name": "python",
   "nbconvert_exporter": "python",
   "pygments_lexer": "ipython3",
   "version": "3.5.6"
  }
 },
 "nbformat": 4,
 "nbformat_minor": 2
}
