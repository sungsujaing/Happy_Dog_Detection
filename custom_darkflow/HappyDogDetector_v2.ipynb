{
 "cells": [
  {
   "cell_type": "markdown",
   "metadata": {},
   "source": [
    "## Dataset preparation from online for custom YOLO"
   ]
  },
  {
   "cell_type": "code",
   "execution_count": null,
   "metadata": {},
   "outputs": [],
   "source": [
    "from google_images_download import google_images_download\n",
    "import os\n",
    "original_path = os.getcwd()\n",
    "data_path = os.path.join(original_path,'downloads')\n",
    "response = google_images_download.googleimagesdownload()\n",
    "search_queries = ['pictures with dogs']"
   ]
  },
  {
   "cell_type": "code",
   "execution_count": null,
   "metadata": {},
   "outputs": [],
   "source": [
    "def downloadimages(query):\n",
    "    arguments = dict(keywords=query,\n",
    "                    limit=1000,\n",
    "                    format='jpg',\n",
    "                    chromedriver='C:\\\\Users\\\\sungsooc\\\\Documents\\\\chromedriver_win32\\\\chromedriver.exe', \n",
    "                    silent_mode=True)   \n",
    "    response.download(arguments)                          "
   ]
  },
  {
   "cell_type": "code",
   "execution_count": null,
   "metadata": {},
   "outputs": [],
   "source": [
    "download_msg = []\n",
    "for query in search_queries: \n",
    "    downloadimages(query)\n",
    "    msg = 'Downloaded {} {} images!'.format(len(os.listdir(os.path.join(data_path,query))),query)\n",
    "    download_msg.append(msg)\n",
    "for msg in download_msg:\n",
    "    print(msg)"
   ]
  },
  {
   "cell_type": "code",
   "execution_count": null,
   "metadata": {},
   "outputs": [],
   "source": [
    "working_dir = os.path.join(data_path,'pictures with dogs')"
   ]
  },
  {
   "cell_type": "code",
   "execution_count": null,
   "metadata": {},
   "outputs": [],
   "source": [
    "os.chdir(working_dir)\n",
    "current_list = os.listdir(os.getcwd())\n",
    "for i in range(len(os.listdir(working_dir))):\n",
    "    original_name = current_list[i]\n",
    "    new_name = \"\".join('pictures with dogs'.split()) + '_{:04d}'.format(i+1) + os.path.splitext(original_name)[-1]\n",
    "    if not os.path.exists(new_name):\n",
    "        os.rename(original_name,new_name)\n",
    "os.chdir(original_path)"
   ]
  },
  {
   "cell_type": "markdown",
   "metadata": {},
   "source": [
    "## labelimg_v1.8.0 ([source](https://github.com/tzutalin/labelImg))"
   ]
  },
  {
   "cell_type": "code",
   "execution_count": null,
   "metadata": {},
   "outputs": [],
   "source": []
  },
  {
   "cell_type": "markdown",
   "metadata": {},
   "source": [
    "## Import modules"
   ]
  },
  {
   "cell_type": "code",
   "execution_count": 1,
   "metadata": {},
   "outputs": [
    {
     "name": "stderr",
     "output_type": "stream",
     "text": [
      "Using TensorFlow backend.\n"
     ]
    }
   ],
   "source": [
    "from darkflow.net.build import TFNet\n",
    "import tensorflow as tf\n",
    "import cv2\n",
    "import matplotlib.pyplot as plt\n",
    "%matplotlib inline\n",
    "import os\n",
    "import numpy as np\n",
    "from keras.models import load_model\n",
    "import pafy\n",
    "import datetime as dt\n",
    "import time"
   ]
  },
  {
   "cell_type": "markdown",
   "metadata": {},
   "source": [
    "## Config custom darkflow"
   ]
  },
  {
   "cell_type": "code",
   "execution_count": 2,
   "metadata": {
    "scrolled": false
   },
   "outputs": [
    {
     "name": "stdout",
     "output_type": "stream",
     "text": [
      "Parsing ./cfg/yolov2.cfg\n",
      "Parsing cfg\\yolov2_hddv2.cfg\n",
      "Loading bin\\yolov2.weights ...\n",
      "Successfully identified 203934260 bytes\n",
      "Finished in 0.015132665634155273s\n",
      "\n",
      "Building net ...\n",
      "Source | Train? | Layer description                | Output size\n",
      "-------+--------+----------------------------------+---------------\n",
      "       |        | input                            | (?, 608, 608, 3)\n",
      " Load  |  Yep!  | conv 3x3p1_1  +bnorm  leaky      | (?, 608, 608, 32)\n",
      " Load  |  Yep!  | maxp 2x2p0_2                     | (?, 304, 304, 32)\n",
      " Load  |  Yep!  | conv 3x3p1_1  +bnorm  leaky      | (?, 304, 304, 64)\n",
      " Load  |  Yep!  | maxp 2x2p0_2                     | (?, 152, 152, 64)\n",
      " Load  |  Yep!  | conv 3x3p1_1  +bnorm  leaky      | (?, 152, 152, 128)\n",
      " Load  |  Yep!  | conv 1x1p0_1  +bnorm  leaky      | (?, 152, 152, 64)\n",
      " Load  |  Yep!  | conv 3x3p1_1  +bnorm  leaky      | (?, 152, 152, 128)\n",
      " Load  |  Yep!  | maxp 2x2p0_2                     | (?, 76, 76, 128)\n",
      " Load  |  Yep!  | conv 3x3p1_1  +bnorm  leaky      | (?, 76, 76, 256)\n",
      " Load  |  Yep!  | conv 1x1p0_1  +bnorm  leaky      | (?, 76, 76, 128)\n",
      " Load  |  Yep!  | conv 3x3p1_1  +bnorm  leaky      | (?, 76, 76, 256)\n",
      " Load  |  Yep!  | maxp 2x2p0_2                     | (?, 38, 38, 256)\n",
      " Load  |  Yep!  | conv 3x3p1_1  +bnorm  leaky      | (?, 38, 38, 512)\n",
      " Load  |  Yep!  | conv 1x1p0_1  +bnorm  leaky      | (?, 38, 38, 256)\n",
      " Load  |  Yep!  | conv 3x3p1_1  +bnorm  leaky      | (?, 38, 38, 512)\n",
      " Load  |  Yep!  | conv 1x1p0_1  +bnorm  leaky      | (?, 38, 38, 256)\n",
      " Load  |  Yep!  | conv 3x3p1_1  +bnorm  leaky      | (?, 38, 38, 512)\n",
      " Load  |  Yep!  | maxp 2x2p0_2                     | (?, 19, 19, 512)\n",
      " Load  |  Yep!  | conv 3x3p1_1  +bnorm  leaky      | (?, 19, 19, 1024)\n",
      " Load  |  Yep!  | conv 1x1p0_1  +bnorm  leaky      | (?, 19, 19, 512)\n",
      " Load  |  Yep!  | conv 3x3p1_1  +bnorm  leaky      | (?, 19, 19, 1024)\n",
      " Load  |  Yep!  | conv 1x1p0_1  +bnorm  leaky      | (?, 19, 19, 512)\n",
      " Load  |  Yep!  | conv 3x3p1_1  +bnorm  leaky      | (?, 19, 19, 1024)\n",
      " Load  |  Yep!  | conv 3x3p1_1  +bnorm  leaky      | (?, 19, 19, 1024)\n",
      " Load  |  Yep!  | conv 3x3p1_1  +bnorm  leaky      | (?, 19, 19, 1024)\n",
      " Load  |  Yep!  | concat [16]                      | (?, 38, 38, 512)\n",
      " Load  |  Yep!  | conv 1x1p0_1  +bnorm  leaky      | (?, 38, 38, 64)\n",
      " Load  |  Yep!  | local flatten 2x2                | (?, 19, 19, 256)\n",
      " Load  |  Yep!  | concat [27, 24]                  | (?, 19, 19, 1280)\n",
      " Load  |  Yep!  | conv 3x3p1_1  +bnorm  leaky      | (?, 19, 19, 1024)\n",
      " Init  |  Yep!  | conv 1x1p0_1    linear           | (?, 19, 19, 35)\n",
      "-------+--------+----------------------------------+---------------\n",
      "GPU mode with 0.8 usage\n",
      "cfg\\yolov2_hddv2.cfg loss hyper-parameters:\n",
      "\tH       = 19\n",
      "\tW       = 19\n",
      "\tbox     = 5\n",
      "\tclasses = 2\n",
      "\tscales  = [1.0, 5.0, 1.0, 1.0]\n",
      "Building cfg\\yolov2_hddv2.cfg loss\n",
      "INFO:tensorflow:Summary name cfg\\yolov2_hddv2.cfg loss is illegal; using cfg_yolov2_hddv2.cfg_loss instead.\n",
      "Building cfg\\yolov2_hddv2.cfg train op\n",
      "Finished in 16.01855230331421s\n",
      "\n"
     ]
    }
   ],
   "source": [
    "config = tf.ConfigProto(log_device_placement=True)\n",
    "config.gpu_options.allow_growth=True\n",
    "with tf.Session(config=config) as sess:\n",
    "    options = {\n",
    "        'model':os.path.join('cfg','yolov2_hddv2.cfg'), ## for custom model\n",
    "        'load':os.path.join('bin','yolov2.weights'),\n",
    "        'epoch':2,\n",
    "        'batch':1,\n",
    "        'train':True,\n",
    "        'dataset':os.path.join('..','downloads','pictures with dogs'),\n",
    "        'annotation':os.path.join('..','downloads','pictures with dogs-annot'),\n",
    "        'gpu':0.8\n",
    "    }\n",
    "    tfnet = TFNet(options)"
   ]
  },
  {
   "cell_type": "code",
   "execution_count": 4,
   "metadata": {
    "scrolled": false
   },
   "outputs": [
    {
     "name": "stdout",
     "output_type": "stream",
     "text": [
      "\n",
      "cfg\\yolov2_hddv2.cfg parsing ..\\downloads\\pictures with dogs-annot\n",
      "Parsing for ['dog', 'dogff'] \n",
      "[====================>]100%  pictureswithdogs_0010.xml\n",
      "Statistics:\n",
      "dog: 13\n",
      "dogff: 6\n",
      "Dataset size: 10\n",
      "Dataset of 10 instance(s)\n",
      "Training statistics: \n",
      "\tLearning rate : 1e-05\n",
      "\tBatch size    : 1\n",
      "\tEpoch number  : 2\n",
      "\tBackup every  : 2000\n",
      "step 1 - loss 197.72158813476562 - moving ave loss 197.72158813476562\n",
      "step 2 - loss 196.63998413085938 - moving ave loss 197.61342773437502\n",
      "step 3 - loss 193.627685546875 - moving ave loss 197.21485351562504\n",
      "step 4 - loss 193.40972900390625 - moving ave loss 196.83434106445316\n",
      "step 5 - loss 192.15821838378906 - moving ave loss 196.36672879638675\n",
      "step 6 - loss 190.49972534179688 - moving ave loss 195.78002845092777\n",
      "step 7 - loss 190.2479705810547 - moving ave loss 195.22682266394045\n",
      "step 8 - loss 189.37075805664062 - moving ave loss 194.64121620321046\n",
      "step 9 - loss 189.69061279296875 - moving ave loss 194.1461558621863\n",
      "step 10 - loss 193.03872680664062 - moving ave loss 194.03541295663175\n",
      "Finish 1 epoch(es)\n",
      "step 11 - loss 187.9637451171875 - moving ave loss 193.42824617268732\n",
      "step 12 - loss 187.19593811035156 - moving ave loss 192.80501536645377\n",
      "step 13 - loss 184.64122009277344 - moving ave loss 191.98863583908573\n",
      "step 14 - loss 188.4410858154297 - moving ave loss 191.63388083672012\n",
      "step 15 - loss 187.74880981445312 - moving ave loss 191.24537373449343\n",
      "step 16 - loss 182.13731384277344 - moving ave loss 190.33456774532144\n",
      "step 17 - loss 183.26283264160156 - moving ave loss 189.62739423494946\n",
      "step 18 - loss 182.98025512695312 - moving ave loss 188.96268032414983\n",
      "step 19 - loss 182.3262481689453 - moving ave loss 188.2990371086294\n",
      "step 20 - loss 181.3754425048828 - moving ave loss 187.60667764825473\n",
      "Finish 2 epoch(es)\n",
      "Checkpoint at step 20\n"
     ]
    }
   ],
   "source": [
    "tfnet.train()"
   ]
  },
  {
   "cell_type": "code",
   "execution_count": 19,
   "metadata": {},
   "outputs": [
    {
     "name": "stdout",
     "output_type": "stream",
     "text": [
      "Parsing cfg\\yolov2_hddv2.cfg\n",
      "Loading None ...\n",
      "Finished in 0.0s\n",
      "\n",
      "Building net ...\n",
      "Source | Train? | Layer description                | Output size\n",
      "-------+--------+----------------------------------+---------------\n",
      "       |        | input                            | (?, 608, 608, 3)\n",
      " Init  |  Yep!  | conv 3x3p1_1  +bnorm  leaky      | (?, 608, 608, 32)\n",
      " Load  |  Yep!  | maxp 2x2p0_2                     | (?, 304, 304, 32)\n",
      " Init  |  Yep!  | conv 3x3p1_1  +bnorm  leaky      | (?, 304, 304, 64)\n",
      " Load  |  Yep!  | maxp 2x2p0_2                     | (?, 152, 152, 64)\n",
      " Init  |  Yep!  | conv 3x3p1_1  +bnorm  leaky      | (?, 152, 152, 128)\n",
      " Init  |  Yep!  | conv 1x1p0_1  +bnorm  leaky      | (?, 152, 152, 64)\n",
      " Init  |  Yep!  | conv 3x3p1_1  +bnorm  leaky      | (?, 152, 152, 128)\n",
      " Load  |  Yep!  | maxp 2x2p0_2                     | (?, 76, 76, 128)\n",
      " Init  |  Yep!  | conv 3x3p1_1  +bnorm  leaky      | (?, 76, 76, 256)\n",
      " Init  |  Yep!  | conv 1x1p0_1  +bnorm  leaky      | (?, 76, 76, 128)\n",
      " Init  |  Yep!  | conv 3x3p1_1  +bnorm  leaky      | (?, 76, 76, 256)\n",
      " Load  |  Yep!  | maxp 2x2p0_2                     | (?, 38, 38, 256)\n",
      " Init  |  Yep!  | conv 3x3p1_1  +bnorm  leaky      | (?, 38, 38, 512)\n",
      " Init  |  Yep!  | conv 1x1p0_1  +bnorm  leaky      | (?, 38, 38, 256)\n",
      " Init  |  Yep!  | conv 3x3p1_1  +bnorm  leaky      | (?, 38, 38, 512)\n",
      " Init  |  Yep!  | conv 1x1p0_1  +bnorm  leaky      | (?, 38, 38, 256)\n",
      " Init  |  Yep!  | conv 3x3p1_1  +bnorm  leaky      | (?, 38, 38, 512)\n",
      " Load  |  Yep!  | maxp 2x2p0_2                     | (?, 19, 19, 512)\n",
      " Init  |  Yep!  | conv 3x3p1_1  +bnorm  leaky      | (?, 19, 19, 1024)\n",
      " Init  |  Yep!  | conv 1x1p0_1  +bnorm  leaky      | (?, 19, 19, 512)\n",
      " Init  |  Yep!  | conv 3x3p1_1  +bnorm  leaky      | (?, 19, 19, 1024)\n",
      " Init  |  Yep!  | conv 1x1p0_1  +bnorm  leaky      | (?, 19, 19, 512)\n",
      " Init  |  Yep!  | conv 3x3p1_1  +bnorm  leaky      | (?, 19, 19, 1024)\n",
      " Init  |  Yep!  | conv 3x3p1_1  +bnorm  leaky      | (?, 19, 19, 1024)\n",
      " Init  |  Yep!  | conv 3x3p1_1  +bnorm  leaky      | (?, 19, 19, 1024)\n",
      " Load  |  Yep!  | concat [16]                      | (?, 38, 38, 512)\n",
      " Init  |  Yep!  | conv 1x1p0_1  +bnorm  leaky      | (?, 38, 38, 64)\n",
      " Load  |  Yep!  | local flatten 2x2                | (?, 19, 19, 256)\n",
      " Load  |  Yep!  | concat [27, 24]                  | (?, 19, 19, 1280)\n",
      " Init  |  Yep!  | conv 3x3p1_1  +bnorm  leaky      | (?, 19, 19, 1024)\n",
      " Init  |  Yep!  | conv 1x1p0_1    linear           | (?, 19, 19, 35)\n",
      "-------+--------+----------------------------------+---------------\n",
      "GPU mode with 1.0 usage\n",
      "Loading from ./ckpt/yolov2_hddv2-20\n",
      "INFO:tensorflow:Restoring parameters from ./ckpt/yolov2_hddv2-20\n",
      "Finished in 11.508629322052002s\n",
      "\n"
     ]
    }
   ],
   "source": [
    "with tf.Session(config=config) as sess:\n",
    "    options = {\n",
    "        'model':os.path.join('cfg','yolov2_hddv2.cfg'), ## for custom model\n",
    "        'load':-1,\n",
    "        'gpu':1.0,\n",
    "        'threshold':0.3\n",
    "    }\n",
    "    tfnet2 = TFNet(options)"
   ]
  },
  {
   "cell_type": "code",
   "execution_count": 20,
   "metadata": {},
   "outputs": [
    {
     "name": "stdout",
     "output_type": "stream",
     "text": [
      "Loading from ./ckpt/yolov2_hddv2-20\n",
      "INFO:tensorflow:Restoring parameters from ./ckpt/yolov2_hddv2-20\n"
     ]
    }
   ],
   "source": [
    "tfnet2.load_from_ckpt()"
   ]
  },
  {
   "cell_type": "code",
   "execution_count": 21,
   "metadata": {},
   "outputs": [
    {
     "name": "stdout",
     "output_type": "stream",
     "text": [
      "[{'label': 'dog', 'confidence': 0.3128947, 'topleft': {'x': 10, 'y': 38}, 'bottomright': {'x': 98, 'y': 96}}, {'label': 'dog', 'confidence': 0.30792612, 'topleft': {'x': 158, 'y': 67}, 'bottomright': {'x': 248, 'y': 116}}, {'label': 'dog', 'confidence': 0.30931836, 'topleft': {'x': 563, 'y': 20}, 'bottomright': {'x': 701, 'y': 159}}, {'label': 'dog', 'confidence': 0.31055042, 'topleft': {'x': 562, 'y': 113}, 'bottomright': {'x': 584, 'y': 127}}, {'label': 'dog', 'confidence': 0.33592635, 'topleft': {'x': 522, 'y': 91}, 'bottomright': {'x': 624, 'y': 145}}, {'label': 'dog', 'confidence': 0.31921577, 'topleft': {'x': 479, 'y': 115}, 'bottomright': {'x': 589, 'y': 172}}, {'label': 'dog', 'confidence': 0.3021866, 'topleft': {'x': 339, 'y': 19}, 'bottomright': {'x': 701, 'y': 268}}, {'label': 'dog', 'confidence': 0.30779263, 'topleft': {'x': 442, 'y': 144}, 'bottomright': {'x': 551, 'y': 196}}, {'label': 'dog', 'confidence': 0.33514875, 'topleft': {'x': 441, 'y': 173}, 'bottomright': {'x': 551, 'y': 221}}, {'label': 'dog', 'confidence': 0.3211896, 'topleft': {'x': 446, 'y': 201}, 'bottomright': {'x': 549, 'y': 246}}, {'label': 'dog', 'confidence': 0.31041825, 'topleft': {'x': 295, 'y': 225}, 'bottomright': {'x': 402, 'y': 277}}, {'label': 'dog', 'confidence': 0.30634058, 'topleft': {'x': 405, 'y': 225}, 'bottomright': {'x': 514, 'y': 274}}, {'label': 'dog', 'confidence': 0.3140655, 'topleft': {'x': 0, 'y': 183}, 'bottomright': {'x': 558, 'y': 422}}, {'label': 'dog', 'confidence': 0.30377725, 'topleft': {'x': 294, 'y': 274}, 'bottomright': {'x': 402, 'y': 332}}, {'label': 'dog', 'confidence': 0.31241122, 'topleft': {'x': 441, 'y': 278}, 'bottomright': {'x': 550, 'y': 329}}, {'label': 'dog', 'confidence': 0.3020599, 'topleft': {'x': 86, 'y': 319}, 'bottomright': {'x': 100, 'y': 338}}, {'label': 'dog', 'confidence': 0.3044638, 'topleft': {'x': 120, 'y': 321}, 'bottomright': {'x': 137, 'y': 338}}, {'label': 'dog', 'confidence': 0.3038701, 'topleft': {'x': 156, 'y': 321}, 'bottomright': {'x': 173, 'y': 339}}, {'label': 'dog', 'confidence': 0.31610566, 'topleft': {'x': 11, 'y': 352}, 'bottomright': {'x': 96, 'y': 413}}, {'label': 'dog', 'confidence': 0.30137995, 'topleft': {'x': 9, 'y': 377}, 'bottomright': {'x': 98, 'y': 441}}, {'label': 'dog', 'confidence': 0.30190614, 'topleft': {'x': 234, 'y': 401}, 'bottomright': {'x': 250, 'y': 418}}, {'label': 'dog', 'confidence': 0.30280194, 'topleft': {'x': 342, 'y': 401}, 'bottomright': {'x': 361, 'y': 416}}, {'label': 'dog', 'confidence': 0.3138793, 'topleft': {'x': 193, 'y': 426}, 'bottomright': {'x': 212, 'y': 444}}, {'label': 'dog', 'confidence': 0.32881925, 'topleft': {'x': 232, 'y': 425}, 'bottomright': {'x': 250, 'y': 445}}, {'label': 'dog', 'confidence': 0.3054613, 'topleft': {'x': 267, 'y': 426}, 'bottomright': {'x': 287, 'y': 445}}, {'label': 'dog', 'confidence': 0.31135175, 'topleft': {'x': 303, 'y': 426}, 'bottomright': {'x': 323, 'y': 444}}, {'label': 'dog', 'confidence': 0.32714212, 'topleft': {'x': 340, 'y': 426}, 'bottomright': {'x': 360, 'y': 444}}, {'label': 'dog', 'confidence': 0.30901125, 'topleft': {'x': 37, 'y': 317}, 'bottomright': {'x': 662, 'y': 500}}, {'label': 'dog', 'confidence': 0.30197734, 'topleft': {'x': 152, 'y': 451}, 'bottomright': {'x': 176, 'y': 472}}, {'label': 'dog', 'confidence': 0.30211505, 'topleft': {'x': 189, 'y': 452}, 'bottomright': {'x': 215, 'y': 471}}, {'label': 'dog', 'confidence': 0.32972658, 'topleft': {'x': 229, 'y': 450}, 'bottomright': {'x': 252, 'y': 472}}, {'label': 'dog', 'confidence': 0.3144196, 'topleft': {'x': 265, 'y': 451}, 'bottomright': {'x': 289, 'y': 472}}, {'label': 'dog', 'confidence': 0.31093508, 'topleft': {'x': 302, 'y': 450}, 'bottomright': {'x': 325, 'y': 472}}, {'label': 'dog', 'confidence': 0.32433197, 'topleft': {'x': 339, 'y': 452}, 'bottomright': {'x': 362, 'y': 472}}, {'label': 'dog', 'confidence': 0.3021004, 'topleft': {'x': 302, 'y': 430}, 'bottomright': {'x': 399, 'y': 490}}, {'label': 'dog', 'confidence': 0.32046717, 'topleft': {'x': 379, 'y': 435}, 'bottomright': {'x': 471, 'y': 486}}, {'label': 'dog', 'confidence': 0.30324298, 'topleft': {'x': 231, 'y': 478}, 'bottomright': {'x': 253, 'y': 499}}, {'label': 'dog', 'confidence': 0.30868238, 'topleft': {'x': 342, 'y': 479}, 'bottomright': {'x': 363, 'y': 500}}, {'label': 'dogff', 'confidence': 0.32539627, 'topleft': {'x': 0, 'y': 22}, 'bottomright': {'x': 189, 'y': 111}}, {'label': 'dogff', 'confidence': 0.30332687, 'topleft': {'x': 353, 'y': 187}, 'bottomright': {'x': 500, 'y': 361}}, {'label': 'dogff', 'confidence': 0.30288908, 'topleft': {'x': 216, 'y': 222}, 'bottomright': {'x': 341, 'y': 386}}, {'label': 'dogff', 'confidence': 0.3214537, 'topleft': {'x': 465, 'y': 219}, 'bottomright': {'x': 609, 'y': 384}}, {'label': 'dogff', 'confidence': 0.33168617, 'topleft': {'x': 348, 'y': 196}, 'bottomright': {'x': 701, 'y': 411}}, {'label': 'dogff', 'confidence': 0.32097316, 'topleft': {'x': 85, 'y': 296}, 'bottomright': {'x': 249, 'y': 470}}, {'label': 'dogff', 'confidence': 0.30589467, 'topleft': {'x': 467, 'y': 300}, 'bottomright': {'x': 607, 'y': 460}}]\n"
     ]
    }
   ],
   "source": [
    "img = cv2.imread('test_images/3.jpg')\n",
    "img = cv2.cvtColor(img,cv2.COLOR_BGR2RGB)\n",
    "results = tfnet2.return_predict(img)\n",
    "print(results)"
   ]
  },
  {
   "cell_type": "code",
   "execution_count": 22,
   "metadata": {},
   "outputs": [],
   "source": [
    "def plot_box(img,prediction):\n",
    "    newimg = np.copy(img)\n",
    "    for r in prediction:\n",
    "        tl = (r['topleft']['x'], r['topleft']['y'])\n",
    "        br = (r['bottomright']['x'], r['bottomright']['y'])\n",
    "        label = r['label']\n",
    "        if label == 'dog':\n",
    "            newimg = cv2.rectangle(img,tl,br,(255,0,0),thickness=4)\n",
    "        if label == 'dogff':\n",
    "            newimg = cv2.rectangle(img,tl,br,(0,0,255),thickness=4)\n",
    "            \n",
    "#         conf = r['confidence'] # confidence of general dog detector\n",
    "#         text = '{}({:.2f})'.format(label,conf)\n",
    "#         text = '{}({:.3f})'.format(predict_class,predict_rate)\n",
    "#         img = cv2.rectangle(img, box_coords[0], box_coords[1], box_color, cv2.FILLED)\n",
    "#         newimg = cv2.rectangle(img,tl,br,(255,0,0),thickness=4)\n",
    "#         img = cv2.putText(img,text,tl,cv2.FONT_HERSHEY_PLAIN,2,txt_color,3)\n",
    "    return newimg"
   ]
  },
  {
   "cell_type": "code",
   "execution_count": 23,
   "metadata": {},
   "outputs": [
    {
     "data": {
      "text/plain": [
       "(-0.5, 701.5, 500.5, -0.5)"
      ]
     },
     "execution_count": 23,
     "metadata": {},
     "output_type": "execute_result"
    },
    {
     "data": {
      "image/png": "[encoded data removed]",
      "text/plain": [
       "<Figure size 432x288 with 1 Axes>"
      ]
     },
     "metadata": {
      "needs_background": "light"
     },
     "output_type": "display_data"
    }
   ],
   "source": [
    "fig,ax = plt.subplots()\n",
    "ax.imshow(plot_box(img,results))\n",
    "ax.axis('off')"
   ]
  },
  {
   "cell_type": "code",
   "execution_count": null,
   "metadata": {},
   "outputs": [],
   "source": []
  },
  {
   "cell_type": "markdown",
   "metadata": {},
   "source": [
    "## Import hdc_v2 and co-register"
   ]
  },
  {
   "cell_type": "code",
   "execution_count": null,
   "metadata": {},
   "outputs": [],
   "source": [
    "model_file_name = 'best-wiehgts-Model_2_2-057-0.314-0.870.hdf5'\n",
    "chosen_model = load_model(os.path.join('best_models_hdc_v2',model_file_name))"
   ]
  },
  {
   "cell_type": "code",
   "execution_count": null,
   "metadata": {},
   "outputs": [],
   "source": [
    "def HappyPrediction(img):\n",
    "    crop_img = img[result[0]['topleft']['y']:result[0]['bottomright']['y'],result[0]['topleft']['x']:result[0]['bottomright']['x']]\n",
    "    img_rows = 224\n",
    "    img_cols = 224\n",
    "    crop_img = cv2.resize(crop_img,(img_rows,img_cols)).astype('float32')\n",
    "    crop_img /= 255\n",
    "    crop_img = np.expand_dims(crop_img,axis=0)\n",
    "    predict_rate = chosen_model.predict(crop_img)[0][0]\n",
    "    if predict_rate >= 0.5:\n",
    "        predict_class = 'happy'\n",
    "    else: predict_class = 'sad'\n",
    "    return predict_class,predict_rate\n"
   ]
  },
  {
   "cell_type": "code",
   "execution_count": null,
   "metadata": {},
   "outputs": [],
   "source": [
    "happy_box_color = (255,0,0)\n",
    "sad_box_color = (0,0,255)\n",
    "txt_color = (255,255,255)"
   ]
  },
  {
   "cell_type": "code",
   "execution_count": null,
   "metadata": {},
   "outputs": [],
   "source": [
    "fig, axes = plt.subplots(3, 2,figsize=(8*2, 6*3))\n",
    "for ax,img_num in zip(axes.flatten(),range(1,7)):\n",
    "    img = cv2.imread(os.path.join('custom_darkflow','test_images',str(img_num)+'.jpg'))\n",
    "    img = cv2.cvtColor(img,cv2.COLOR_BGR2RGB)\n",
    "    result = tfnet.return_predict(img)\n",
    "    for r in result:\n",
    "        tl = (r['topleft']['x'], r['topleft']['y'])\n",
    "        br = (r['bottomright']['x'], r['bottomright']['y'])\n",
    "        label = r['label']\n",
    "        if label == 'dog':     \n",
    "#             conf = r['confidence'] # confidence of general dog detector\n",
    "#             text = '{}({:.2f})'.format(label,conf)\n",
    "            predict_class,predict_rate = HappyPrediction(img) # confidence of happy dog classifier\n",
    "            text = '{}({:.3f})'.format(predict_class,predict_rate)\n",
    "            (text_width, text_height) = cv2.getTextSize(text, cv2.FONT_HERSHEY_PLAIN,2,5)[0]\n",
    "            text_offset_x = tl[0]-3\n",
    "            text_offset_y = tl[1]\n",
    "            box_coords = ((text_offset_x, text_offset_y+10), (text_offset_x+text_width,text_offset_y-text_height-10))\n",
    "            if predict_class == 'happy':\n",
    "                box_color = happy_box_color\n",
    "            else:\n",
    "                box_color = sad_box_color\n",
    "            img = cv2.rectangle(img, box_coords[0], box_coords[1], box_color, cv2.FILLED)\n",
    "            img = cv2.rectangle(img,tl,br,box_color,thickness=4)\n",
    "            img = cv2.putText(img,text,tl,cv2.FONT_HERSHEY_PLAIN,2,txt_color,3)\n",
    "    ax.imshow(img)\n",
    "    ax.axis('off')\n",
    "plt.subplots_adjust(left=0.2, wspace=0)"
   ]
  },
  {
   "cell_type": "markdown",
   "metadata": {},
   "source": [
    "## single example excution time"
   ]
  },
  {
   "cell_type": "code",
   "execution_count": null,
   "metadata": {},
   "outputs": [],
   "source": [
    "%%timeit\n",
    "img = cv2.imread(os.path.join('custom_darkflow','test_images','6.jpg'))\n",
    "img = cv2.cvtColor(img,cv2.COLOR_BGR2RGB)\n",
    "result = tfnet.return_predict(img)\n",
    "for r in result:\n",
    "    tl = (r['topleft']['x'], r['topleft']['y'])\n",
    "    br = (r['bottomright']['x'], r['bottomright']['y'])\n",
    "    label = r['label']\n",
    "    if label == 'dog':     \n",
    "#             conf = r['confidence'] # confidence of general dog detector\n",
    "#             text = '{}({:.2f})'.format(label,conf)\n",
    "        predict_class,predict_rate = HappyPrediction(img) # confidence of happy dog classifier\n",
    "        text = '{}({:.2f})'.format(predict_class,predict_rate)\n",
    "        (text_width, text_height) = cv2.getTextSize(text, cv2.FONT_HERSHEY_PLAIN,2,5)[0]\n",
    "        text_offset_x = tl[0]-3\n",
    "        text_offset_y = tl[1]\n",
    "        box_coords = ((text_offset_x, text_offset_y+10), (text_offset_x+text_width,text_offset_y-text_height-10))\n",
    "        if predict_class == 'happy':\n",
    "            box_color = happy_box_color\n",
    "        else:\n",
    "            box_color = sad_box_color\n",
    "        img = cv2.rectangle(img, box_coords[0], box_coords[1], box_color, cv2.FILLED)\n",
    "        img = cv2.rectangle(img,tl,br,box_color,thickness=4)\n",
    "        img = cv2.putText(img,text,tl,cv2.FONT_HERSHEY_PLAIN,2,txt_color,3)\n",
    "plt.imshow(img)\n",
    "plt.axis('off')\n",
    "plt.subplots_adjust(left=0.2, wspace=0)"
   ]
  },
  {
   "cell_type": "markdown",
   "metadata": {},
   "source": [
    "# for video input"
   ]
  },
  {
   "cell_type": "code",
   "execution_count": null,
   "metadata": {},
   "outputs": [],
   "source": [
    "## only showing happy dogs ##\n",
    "url = 'https://www.youtube.com/watch?v=0lEUiQEDUHM'\n",
    "pa = pafy.new(url)\n",
    "play = pa.getbest(preftype='webm')\n",
    "cap = cv2.VideoCapture(play.url)\n",
    "\n",
    "if (cap.isOpened() == False):\n",
    "    print('cannot read a video')\n",
    "width = cap.get(cv2.CAP_PROP_FRAME_WIDTH)\n",
    "height = cap.get(cv2.CAP_PROP_FRAME_HEIGHT)\n",
    "\n",
    "fourcc = cv2.VideoWriter_fourcc(*'XVID')\n",
    "out = cv2.VideoWriter('HDD_testing.avi',fourcc,20.0,(640,360))\n",
    "\n",
    "while cap.isOpened():\n",
    "    stime = time.time()\n",
    "    ret,frame = cap.read()\n",
    "    \n",
    "    if ret == True:\n",
    "        frame = np.asarray(frame)\n",
    "        result = tfnet.return_predict(frame)\n",
    "        new_frame = np.copy(frame)\n",
    "        for r in result:\n",
    "            tl = (r['topleft']['x'], r['topleft']['y'])\n",
    "            br = (r['bottomright']['x'], r['bottomright']['y'])\n",
    "            label = r['label']\n",
    "            if label == 'dog':\n",
    "                predict_class,predict_rate = HappyPrediction(new_frame) # confidence of happy dog classifier\n",
    "                if predict_class == 'happy':       \n",
    "                    text = '{}({:.2f})'.format(predict_class,predict_rate)\n",
    "                    box_color = happy_box_color\n",
    "                    (text_width, text_height) = cv2.getTextSize(text, cv2.FONT_HERSHEY_PLAIN,2,5)[0]\n",
    "                    text_offset_x = tl[0]-3\n",
    "                    text_offset_y = tl[1]\n",
    "                    box_coords = ((text_offset_x, text_offset_y+10), (text_offset_x+text_width,text_offset_y-text_height-10))\n",
    "                    new_frame = cv2.rectangle(new_frame, box_coords[0], box_coords[1], box_color, cv2.FILLED)\n",
    "                    new_frame = cv2.rectangle(new_frame,tl,br,box_color,thickness=4)\n",
    "                    new_frame = cv2.putText(new_frame,text,tl,cv2.FONT_HERSHEY_PLAIN,2,txt_color,3)\n",
    "        fps = 1/(time.time()-stime)\n",
    "        new_frame = cv2.putText(new_frame,'fps: '+format(fps, '.2f'),(0,15),cv2.FONT_HERSHEY_PLAIN,1,(0,0,0),2)\n",
    "        out.write(new_frame)\n",
    "        cv2.imshow('frame',new_frame)\n",
    "        if cv2.waitKey(1) & 0xff == ord('q'):\n",
    "            break\n",
    "    else:\n",
    "        break\n",
    "cv2.destroyAllWindows()\n",
    "cap.release()\n",
    "out.release()\n"
   ]
  },
  {
   "cell_type": "code",
   "execution_count": null,
   "metadata": {},
   "outputs": [],
   "source": [
    "url = 'https://www.youtube.com/watch?v=0lEUiQEDUHM'\n",
    "pa = pafy.new(url)\n",
    "play = pa.getbest(preftype='webm')\n",
    "cap = cv2.VideoCapture(play.url)\n",
    "\n",
    "if (cap.isOpened() == False):\n",
    "    print('cannot read a video')\n",
    "width = cap.get(cv2.CAP_PROP_FRAME_WIDTH)\n",
    "height = cap.get(cv2.CAP_PROP_FRAME_HEIGHT)\n",
    "\n",
    "fourcc = cv2.VideoWriter_fourcc(*'XVID')\n",
    "out = cv2.VideoWriter('HDD_testing.avi',fourcc,20.0,(640,360))\n",
    "\n",
    "while cap.isOpened():\n",
    "    stime = time.time()\n",
    "    ret,frame = cap.read()\n",
    "    \n",
    "    if ret == True:\n",
    "        frame = np.asarray(frame)\n",
    "        result = tfnet.return_predict(frame)\n",
    "        new_frame = np.copy(frame)\n",
    "        for r in result:\n",
    "            tl = (r['topleft']['x'], r['topleft']['y'])\n",
    "            br = (r['bottomright']['x'], r['bottomright']['y'])\n",
    "            label = r['label']\n",
    "            if label == 'dog':\n",
    "                predict_class,predict_rate = HappyPrediction(new_frame) # confidence of happy dog classifier\n",
    "                if predict_class == 'happy':       \n",
    "                    text = '{}({:.2f})'.format(predict_class,predict_rate)\n",
    "                    box_color = happy_box_color\n",
    "                else:\n",
    "                    text = '{}'.format(predict_class)\n",
    "                    box_color = sad_box_color\n",
    "                (text_width, text_height) = cv2.getTextSize(text, cv2.FONT_HERSHEY_PLAIN,2,5)[0]\n",
    "                text_offset_x = tl[0]-3\n",
    "                text_offset_y = tl[1]\n",
    "                box_coords = ((text_offset_x, text_offset_y+10), (text_offset_x+text_width,text_offset_y-text_height-10))\n",
    "#                 if predict_class == 'happy':\n",
    "#                     box_color = happy_box_color\n",
    "#                 else:\n",
    "#                     box_color = sad_box_color\n",
    "                new_frame = cv2.rectangle(new_frame, box_coords[0], box_coords[1], box_color, cv2.FILLED)\n",
    "                new_frame = cv2.rectangle(new_frame,tl,br,box_color,thickness=4)\n",
    "                new_frame = cv2.putText(new_frame,text,tl,cv2.FONT_HERSHEY_PLAIN,2,txt_color,3)\n",
    "        fps = 1/(time.time()-stime)\n",
    "        new_frame = cv2.putText(new_frame,'fps: '+format(fps, '.2f'),(0,15),cv2.FONT_HERSHEY_PLAIN,1,(0,0,0),2)\n",
    "        out.write(new_frame)\n",
    "        cv2.imshow('frame',new_frame)\n",
    "        if cv2.waitKey(1) & 0xff == ord('q'):\n",
    "            break\n",
    "    else:\n",
    "        break\n",
    "cv2.destroyAllWindows()\n",
    "cap.release()\n",
    "out.release()\n"
   ]
  },
  {
   "cell_type": "markdown",
   "metadata": {},
   "source": [
    "## for webcam input"
   ]
  },
  {
   "cell_type": "code",
   "execution_count": null,
   "metadata": {},
   "outputs": [],
   "source": [
    "# colors = (tuple(255*np.random.rand(3) for _ in range(10)))"
   ]
  },
  {
   "cell_type": "code",
   "execution_count": null,
   "metadata": {},
   "outputs": [],
   "source": [
    "# capture = cv2.VideoCapture(0)\n",
    "# capture.set(cv2.CAP_PROP_FRAME_WIDTH,1920)\n",
    "# capture.set(cv2.CAP_PROP_FRAME_HEIGHT,1080)"
   ]
  },
  {
   "cell_type": "code",
   "execution_count": null,
   "metadata": {},
   "outputs": [],
   "source": [
    "# while True:\n",
    "#     stime = time.time()\n",
    "#     ret,frame = capture.read()\n",
    "    \n",
    "#     if ret:\n",
    "#         results = tfnet.return_predict(frame)\n",
    "#         for color,r in zip(colors,results):\n",
    "#             tl = (r['topleft']['x'], r['topleft']['y'])\n",
    "#             br = (r['bottomright']['x'], r['bottomright']['y'])\n",
    "#             label = r['label']\n",
    "#             frame = cv2.rectangle(frame,tl,br,color,5)\n",
    "#             frame = cv2.putText(frame,label,tl,cv2.FONT_HERSHEY_PLAIN,2,color,3)\n",
    "#         cv2.imshow('frame',frame)\n",
    "#         print('FPS {:.1f}'.format(1/(time.time()-stime)))\n",
    "#     if cv2.waitKey(1) & 0xFF == ord('q'):\n",
    "#         break\n",
    "# capture.release()\n",
    "# cv2.destroyAllWindows()"
   ]
  }
 ],
 "metadata": {
  "kernelspec": {
   "display_name": "cv-gpu",
   "language": "python",
   "name": "cv-gpu"
  },
  "language_info": {
   "codemirror_mode": {
    "name": "ipython",
    "version": 3
   },
   "file_extension": ".py",
   "mimetype": "text/x-python",
   "name": "python",
   "nbconvert_exporter": "python",
   "pygments_lexer": "ipython3",
   "version": "3.6.4"
  }
 },
 "nbformat": 4,
 "nbformat_minor": 2
}
